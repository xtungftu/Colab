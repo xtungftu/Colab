{
  "cells": [
    {
      "cell_type": "code",
      "source": [
        "# Mount Google Drive\n",
        "from google.colab import drive\n",
        "drive.mount('/content/drive')\n"
      ],
      "metadata": {
        "id": "pBepyimrMVTK"
      },
      "execution_count": null,
      "outputs": []
    },
    {
      "cell_type": "code",
      "source": [
        "%cd /content\n",
        "%env TF_CPP_MIN_LOG_LEVEL=1\n",
        "\n",
        "!apt -y update -qq\n",
        "!wget https://github.com/camenduru/gperftools/releases/download/v1.0/libtcmalloc_minimal.so.4 -O /content/libtcmalloc_minimal.so.4\n",
        "%env LD_PRELOAD=/content/libtcmalloc_minimal.so.4"
      ],
      "metadata": {
        "id": "A4quGPLBnQUM"
      },
      "execution_count": null,
      "outputs": []
    },
    {
      "cell_type": "markdown",
      "source": [],
      "metadata": {
        "id": "q72bDjjInPvZ"
      }
    },
    {
      "cell_type": "code",
      "source": [
        "# Install required packages\n",
        "!apt -y update -qq\n",
        "!apt -y install -qq aria2 libcairo2-dev pkg-config python3-dev\n",
        "\n",
        "# Install PyTorch\n",
        "!pip install -q torch==2.0.0+cu118 torchvision==0.15.1+cu118 torchaudio==2.0.1+cu118 torchtext==0.15.1 torchdata==0.6.0 --extra-index-url https://download.pytorch.org/whl/cu118 -U\n",
        "\n"
      ],
      "metadata": {
        "id": "-V_0Wwnxmh2a"
      },
      "execution_count": null,
      "outputs": []
    },
    {
      "cell_type": "code",
      "source": [
        "# Stable Diffusion repository\n",
        "!git clone https://github.com/vladmandic/automatic /content/stable-diffusion-webui\n",
        "\n",
        "# Change directory to Stable Diffusion folder\n",
        "%cd /content/stable-diffusion-webui\n",
        "\n",
        "# Reset repositories\n",
        "!git reset --hard\n",
        "!git -C /content/stable-diffusion-webui/repositories/stable-diffusion-stability-ai reset --hard\n",
        "\n",
        "\n"
      ],
      "metadata": {
        "id": "0P7oN1LSmq-s"
      },
      "execution_count": null,
      "outputs": []
    },
    {
      "cell_type": "code",
      "source": [
        "# Extensions + controlnet + lienket\n",
        "!wget https://raw.githubusercontent.com/xtungftu/Colab/main/Vladextension.txt -qq\n",
        "!wget https://raw.githubusercontent.com/xtungftu/Colab/main/Controlnetvlad.txt -qq\n",
        "!wget https://raw.githubusercontent.com/xtungftu/Colab/main/lienketvlad.txt -qq\n",
        "with open(\"/content/stable-diffusion-webui/Vladextension.txt\", \"r\") as file:\n",
        "    extension_commands = file.readlines()\n",
        "    for cmd in extension_commands:\n",
        "        !{cmd.strip()}\n",
        "print(\"✓ Kết thúc\", \"Cài đặt extension thành công\")\n",
        "# ===========================> Kết thúc\n"
      ],
      "metadata": {
        "id": "rPvCuFcQq-eP"
      },
      "execution_count": null,
      "outputs": []
    },
    {
      "cell_type": "code",
      "source": [
        "with open(\"/content/stable-diffusion-webui/Controlnetvlad.txt\", \"r\") as file:\n",
        "    controlnet_commands = file.readlines()\n",
        "    for cmd in controlnet_commands:\n",
        "        !{cmd.strip()}\n",
        "print(\"✓ Kết thúc\", \"Cài đặt controlnet thành công\")\n",
        "\n"
      ],
      "metadata": {
        "id": "tw2AnT9LrCvU"
      },
      "execution_count": null,
      "outputs": []
    },
    {
      "cell_type": "code",
      "source": [
        "with open(\"/content/stable-diffusion-webui/lienketvlad.txt\", \"r\") as file:\n",
        "    lienket_commands = file.readlines()\n",
        "    for cmd in lienket_commands:\n",
        "        !{cmd.strip()}\n",
        "\n"
      ],
      "metadata": {
        "id": "dDRkLWBPrE7I"
      },
      "execution_count": null,
      "outputs": []
    },
    {
      "cell_type": "code",
      "source": [
        "!mkdir /content/drive/MyDrive/SD-ChiaSeDamMe/\n",
        "!mkdir /content/drive/MyDrive/SD-ChiaSeDamMe/outputs\n",
        "!mkdir /content/drive/MyDrive/SD-ChiaSeDamMe/Model\n",
        "!mkdir /content/drive/MyDrive/SD-ChiaSeDamMe/Lora\n",
        "!mkdir /content/drive/MyDrive/SD-ChiaSeDamMe/Setting\n"
      ],
      "metadata": {
        "id": "jWfRW4nHrH23"
      },
      "execution_count": null,
      "outputs": []
    },
    {
      "cell_type": "code",
      "source": [
        "#Styles\n",
        "import os\n",
        "import urllib.request\n",
        "styles_file = '/content/drive/MyDrive/SD-ChiaSeDamMe/Setting/styles.csv'\n",
        "if not os.path.isfile(styles_file):\n",
        "    print(\"File styles không tồn tại trong thư mục setting, đang tải về...\")\n",
        "    url = \"http://stablediffusion.life/DulieuSD/styles.csv\"\n",
        "    urllib.request.urlretrieve(url, styles_file)\n",
        "    print(\"Đã tải về thành công!\")\n",
        "else:\n",
        "    print(\"File styles.csv đã tồn tại trong thư mục setting, không cần tải lại.\")\n"
      ],
      "metadata": {
        "id": "sQsdHuyVrJlx"
      },
      "execution_count": null,
      "outputs": []
    },
    {
      "cell_type": "code",
      "source": [
        "# Run Stable Diffusion\n",
        "!sed -i -e 's/\\[\"sd_model_checkpoint\"\\]/\\[\"sd_model_checkpoint\",\"sd_vae\",\"CLIP_stop_at_last_layers\"\\]/g' /content/stable-diffusion-webui/modules/shared.py\n",
        "!python launch.py --share --use-cuda  --upgrade"
      ],
      "metadata": {
        "id": "W_dg3lGhrLq2"
      },
      "execution_count": null,
      "outputs": []
    },
    {
      "cell_type": "code",
      "source": [],
      "metadata": {
        "id": "8YgvR10Oq-Ro"
      },
      "execution_count": null,
      "outputs": []
    },
    {
      "cell_type": "code",
      "source": [],
      "metadata": {
        "id": "LXGuPuOBrLej"
      },
      "execution_count": null,
      "outputs": []
    }
  ],
  "metadata": {
    "accelerator": "GPU",
    "colab": {
      "provenance": [],
      "gpuType": "T4",
      "private_outputs": true
    },
    "kernelspec": {
      "display_name": "Python 3",
      "name": "python3"
    },
    "language_info": {
      "name": "python"
    }
  },
  "nbformat": 4,
  "nbformat_minor": 0
}